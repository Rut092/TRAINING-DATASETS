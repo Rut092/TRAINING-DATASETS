{
  "nbformat": 4,
  "nbformat_minor": 0,
  "metadata": {
    "colab": {
      "name": "LENET TRAINING.ipynb",
      "provenance": []
    },
    "kernelspec": {
      "name": "python3",
      "display_name": "Python 3"
    },
    "language_info": {
      "name": "python"
    },
    "accelerator": "GPU",
    "gpuClass": "standard",
    "widgets": {
      "application/vnd.jupyter.widget-state+json": {
        "3d127866dc5e498abeb84680fd2eb223": {
          "model_module": "@jupyter-widgets/controls",
          "model_name": "HBoxModel",
          "model_module_version": "1.5.0",
          "state": {
            "_dom_classes": [],
            "_model_module": "@jupyter-widgets/controls",
            "_model_module_version": "1.5.0",
            "_model_name": "HBoxModel",
            "_view_count": null,
            "_view_module": "@jupyter-widgets/controls",
            "_view_module_version": "1.5.0",
            "_view_name": "HBoxView",
            "box_style": "",
            "children": [
              "IPY_MODEL_7227480d361946e6a95e95e528f16586",
              "IPY_MODEL_b6aff151f2754287a3cc92b805899a52",
              "IPY_MODEL_7c2a5be9009b447480927319a903d495"
            ],
            "layout": "IPY_MODEL_76c0c50b7d8842d289f42c0745ab8649"
          }
        },
        "7227480d361946e6a95e95e528f16586": {
          "model_module": "@jupyter-widgets/controls",
          "model_name": "HTMLModel",
          "model_module_version": "1.5.0",
          "state": {
            "_dom_classes": [],
            "_model_module": "@jupyter-widgets/controls",
            "_model_module_version": "1.5.0",
            "_model_name": "HTMLModel",
            "_view_count": null,
            "_view_module": "@jupyter-widgets/controls",
            "_view_module_version": "1.5.0",
            "_view_name": "HTMLView",
            "description": "",
            "description_tooltip": null,
            "layout": "IPY_MODEL_184c6d6920484a6185a10f50e26122dd",
            "placeholder": "​",
            "style": "IPY_MODEL_4643353feef448f5b373fb59814e09e7",
            "value": ""
          }
        },
        "b6aff151f2754287a3cc92b805899a52": {
          "model_module": "@jupyter-widgets/controls",
          "model_name": "FloatProgressModel",
          "model_module_version": "1.5.0",
          "state": {
            "_dom_classes": [],
            "_model_module": "@jupyter-widgets/controls",
            "_model_module_version": "1.5.0",
            "_model_name": "FloatProgressModel",
            "_view_count": null,
            "_view_module": "@jupyter-widgets/controls",
            "_view_module_version": "1.5.0",
            "_view_name": "ProgressView",
            "bar_style": "success",
            "description": "",
            "description_tooltip": null,
            "layout": "IPY_MODEL_689adb665dc04bc2b1050ba54f980cd6",
            "max": 170498071,
            "min": 0,
            "orientation": "horizontal",
            "style": "IPY_MODEL_df962bd37fe740b5908f477bf0ac101e",
            "value": 170498071
          }
        },
        "7c2a5be9009b447480927319a903d495": {
          "model_module": "@jupyter-widgets/controls",
          "model_name": "HTMLModel",
          "model_module_version": "1.5.0",
          "state": {
            "_dom_classes": [],
            "_model_module": "@jupyter-widgets/controls",
            "_model_module_version": "1.5.0",
            "_model_name": "HTMLModel",
            "_view_count": null,
            "_view_module": "@jupyter-widgets/controls",
            "_view_module_version": "1.5.0",
            "_view_name": "HTMLView",
            "description": "",
            "description_tooltip": null,
            "layout": "IPY_MODEL_e6454f9ab4ce48639ceeaf76e7eff664",
            "placeholder": "​",
            "style": "IPY_MODEL_7850d18d3d394686b3aa1c2925ce54a3",
            "value": " 170499072/? [00:03&lt;00:00, 52808692.96it/s]"
          }
        },
        "76c0c50b7d8842d289f42c0745ab8649": {
          "model_module": "@jupyter-widgets/base",
          "model_name": "LayoutModel",
          "model_module_version": "1.2.0",
          "state": {
            "_model_module": "@jupyter-widgets/base",
            "_model_module_version": "1.2.0",
            "_model_name": "LayoutModel",
            "_view_count": null,
            "_view_module": "@jupyter-widgets/base",
            "_view_module_version": "1.2.0",
            "_view_name": "LayoutView",
            "align_content": null,
            "align_items": null,
            "align_self": null,
            "border": null,
            "bottom": null,
            "display": null,
            "flex": null,
            "flex_flow": null,
            "grid_area": null,
            "grid_auto_columns": null,
            "grid_auto_flow": null,
            "grid_auto_rows": null,
            "grid_column": null,
            "grid_gap": null,
            "grid_row": null,
            "grid_template_areas": null,
            "grid_template_columns": null,
            "grid_template_rows": null,
            "height": null,
            "justify_content": null,
            "justify_items": null,
            "left": null,
            "margin": null,
            "max_height": null,
            "max_width": null,
            "min_height": null,
            "min_width": null,
            "object_fit": null,
            "object_position": null,
            "order": null,
            "overflow": null,
            "overflow_x": null,
            "overflow_y": null,
            "padding": null,
            "right": null,
            "top": null,
            "visibility": null,
            "width": null
          }
        },
        "184c6d6920484a6185a10f50e26122dd": {
          "model_module": "@jupyter-widgets/base",
          "model_name": "LayoutModel",
          "model_module_version": "1.2.0",
          "state": {
            "_model_module": "@jupyter-widgets/base",
            "_model_module_version": "1.2.0",
            "_model_name": "LayoutModel",
            "_view_count": null,
            "_view_module": "@jupyter-widgets/base",
            "_view_module_version": "1.2.0",
            "_view_name": "LayoutView",
            "align_content": null,
            "align_items": null,
            "align_self": null,
            "border": null,
            "bottom": null,
            "display": null,
            "flex": null,
            "flex_flow": null,
            "grid_area": null,
            "grid_auto_columns": null,
            "grid_auto_flow": null,
            "grid_auto_rows": null,
            "grid_column": null,
            "grid_gap": null,
            "grid_row": null,
            "grid_template_areas": null,
            "grid_template_columns": null,
            "grid_template_rows": null,
            "height": null,
            "justify_content": null,
            "justify_items": null,
            "left": null,
            "margin": null,
            "max_height": null,
            "max_width": null,
            "min_height": null,
            "min_width": null,
            "object_fit": null,
            "object_position": null,
            "order": null,
            "overflow": null,
            "overflow_x": null,
            "overflow_y": null,
            "padding": null,
            "right": null,
            "top": null,
            "visibility": null,
            "width": null
          }
        },
        "4643353feef448f5b373fb59814e09e7": {
          "model_module": "@jupyter-widgets/controls",
          "model_name": "DescriptionStyleModel",
          "model_module_version": "1.5.0",
          "state": {
            "_model_module": "@jupyter-widgets/controls",
            "_model_module_version": "1.5.0",
            "_model_name": "DescriptionStyleModel",
            "_view_count": null,
            "_view_module": "@jupyter-widgets/base",
            "_view_module_version": "1.2.0",
            "_view_name": "StyleView",
            "description_width": ""
          }
        },
        "689adb665dc04bc2b1050ba54f980cd6": {
          "model_module": "@jupyter-widgets/base",
          "model_name": "LayoutModel",
          "model_module_version": "1.2.0",
          "state": {
            "_model_module": "@jupyter-widgets/base",
            "_model_module_version": "1.2.0",
            "_model_name": "LayoutModel",
            "_view_count": null,
            "_view_module": "@jupyter-widgets/base",
            "_view_module_version": "1.2.0",
            "_view_name": "LayoutView",
            "align_content": null,
            "align_items": null,
            "align_self": null,
            "border": null,
            "bottom": null,
            "display": null,
            "flex": null,
            "flex_flow": null,
            "grid_area": null,
            "grid_auto_columns": null,
            "grid_auto_flow": null,
            "grid_auto_rows": null,
            "grid_column": null,
            "grid_gap": null,
            "grid_row": null,
            "grid_template_areas": null,
            "grid_template_columns": null,
            "grid_template_rows": null,
            "height": null,
            "justify_content": null,
            "justify_items": null,
            "left": null,
            "margin": null,
            "max_height": null,
            "max_width": null,
            "min_height": null,
            "min_width": null,
            "object_fit": null,
            "object_position": null,
            "order": null,
            "overflow": null,
            "overflow_x": null,
            "overflow_y": null,
            "padding": null,
            "right": null,
            "top": null,
            "visibility": null,
            "width": null
          }
        },
        "df962bd37fe740b5908f477bf0ac101e": {
          "model_module": "@jupyter-widgets/controls",
          "model_name": "ProgressStyleModel",
          "model_module_version": "1.5.0",
          "state": {
            "_model_module": "@jupyter-widgets/controls",
            "_model_module_version": "1.5.0",
            "_model_name": "ProgressStyleModel",
            "_view_count": null,
            "_view_module": "@jupyter-widgets/base",
            "_view_module_version": "1.2.0",
            "_view_name": "StyleView",
            "bar_color": null,
            "description_width": ""
          }
        },
        "e6454f9ab4ce48639ceeaf76e7eff664": {
          "model_module": "@jupyter-widgets/base",
          "model_name": "LayoutModel",
          "model_module_version": "1.2.0",
          "state": {
            "_model_module": "@jupyter-widgets/base",
            "_model_module_version": "1.2.0",
            "_model_name": "LayoutModel",
            "_view_count": null,
            "_view_module": "@jupyter-widgets/base",
            "_view_module_version": "1.2.0",
            "_view_name": "LayoutView",
            "align_content": null,
            "align_items": null,
            "align_self": null,
            "border": null,
            "bottom": null,
            "display": null,
            "flex": null,
            "flex_flow": null,
            "grid_area": null,
            "grid_auto_columns": null,
            "grid_auto_flow": null,
            "grid_auto_rows": null,
            "grid_column": null,
            "grid_gap": null,
            "grid_row": null,
            "grid_template_areas": null,
            "grid_template_columns": null,
            "grid_template_rows": null,
            "height": null,
            "justify_content": null,
            "justify_items": null,
            "left": null,
            "margin": null,
            "max_height": null,
            "max_width": null,
            "min_height": null,
            "min_width": null,
            "object_fit": null,
            "object_position": null,
            "order": null,
            "overflow": null,
            "overflow_x": null,
            "overflow_y": null,
            "padding": null,
            "right": null,
            "top": null,
            "visibility": null,
            "width": null
          }
        },
        "7850d18d3d394686b3aa1c2925ce54a3": {
          "model_module": "@jupyter-widgets/controls",
          "model_name": "DescriptionStyleModel",
          "model_module_version": "1.5.0",
          "state": {
            "_model_module": "@jupyter-widgets/controls",
            "_model_module_version": "1.5.0",
            "_model_name": "DescriptionStyleModel",
            "_view_count": null,
            "_view_module": "@jupyter-widgets/base",
            "_view_module_version": "1.2.0",
            "_view_name": "StyleView",
            "description_width": ""
          }
        }
      }
    }
  },
  "cells": [
    {
      "cell_type": "code",
      "execution_count": null,
      "metadata": {
        "id": "dcTNMFRuxoJ2"
      },
      "outputs": [],
      "source": [
        "import torch\n",
        "import matplotlib.pyplot as plt\n",
        "import numpy as np"
      ]
    },
    {
      "cell_type": "markdown",
      "source": [
        "DATA LOADING"
      ],
      "metadata": {
        "id": "JXD_hkrCV-3y"
      }
    },
    {
      "cell_type": "code",
      "source": [
        "import torchvision\n",
        "import torchvision.transforms as transforms\n",
        "trainset=torchvision.datasets.CIFAR10(root='./data',train=True,download=True,transform=transforms.ToTensor())"
      ],
      "metadata": {
        "id": "-9lOmGieqi8a",
        "colab": {
          "base_uri": "https://localhost:8080/",
          "height": 84,
          "referenced_widgets": [
            "3d127866dc5e498abeb84680fd2eb223",
            "7227480d361946e6a95e95e528f16586",
            "b6aff151f2754287a3cc92b805899a52",
            "7c2a5be9009b447480927319a903d495",
            "76c0c50b7d8842d289f42c0745ab8649",
            "184c6d6920484a6185a10f50e26122dd",
            "4643353feef448f5b373fb59814e09e7",
            "689adb665dc04bc2b1050ba54f980cd6",
            "df962bd37fe740b5908f477bf0ac101e",
            "e6454f9ab4ce48639ceeaf76e7eff664",
            "7850d18d3d394686b3aa1c2925ce54a3"
          ]
        },
        "outputId": "184d19f6-03f6-4788-fc9d-7b7ac3b3304a"
      },
      "execution_count": null,
      "outputs": [
        {
          "output_type": "stream",
          "name": "stdout",
          "text": [
            "Downloading https://www.cs.toronto.edu/~kriz/cifar-10-python.tar.gz to ./data/cifar-10-python.tar.gz\n"
          ]
        },
        {
          "output_type": "display_data",
          "data": {
            "text/plain": [
              "  0%|          | 0/170498071 [00:00<?, ?it/s]"
            ],
            "application/vnd.jupyter.widget-view+json": {
              "version_major": 2,
              "version_minor": 0,
              "model_id": "3d127866dc5e498abeb84680fd2eb223"
            }
          },
          "metadata": {}
        },
        {
          "output_type": "stream",
          "name": "stdout",
          "text": [
            "Extracting ./data/cifar-10-python.tar.gz to ./data\n"
          ]
        }
      ]
    },
    {
      "cell_type": "code",
      "source": [
        "classes=('plane','car','bird','cat','deer','dog','frog','horse','ship','truck')"
      ],
      "metadata": {
        "id": "6b0aGhETWwDO"
      },
      "execution_count": null,
      "outputs": []
    },
    {
      "cell_type": "code",
      "source": [
        "trainloader=torch.utils.data.DataLoader(trainset,batch_size=4,shuffle=True)"
      ],
      "metadata": {
        "id": "wqk-w3HuXP3v"
      },
      "execution_count": null,
      "outputs": []
    },
    {
      "cell_type": "code",
      "source": [
        "dataiter=iter(trainloader)\n",
        "images,labels=dataiter.next()\n",
        "\n",
        "print(images.shape)\n",
        "\n",
        "print(images[0].shape)\n",
        "print(labels[0].item())"
      ],
      "metadata": {
        "colab": {
          "base_uri": "https://localhost:8080/"
        },
        "id": "KB4EXkyhYOkr",
        "outputId": "9658dea8-7352-4327-9b84-0ceb3d086754"
      },
      "execution_count": null,
      "outputs": [
        {
          "output_type": "stream",
          "name": "stdout",
          "text": [
            "torch.Size([4, 3, 32, 32])\n",
            "torch.Size([3, 32, 32])\n",
            "3\n"
          ]
        }
      ]
    },
    {
      "cell_type": "markdown",
      "source": [
        "VISUALIZE DATA"
      ],
      "metadata": {
        "id": "JCiRDHiNbDz1"
      }
    },
    {
      "cell_type": "code",
      "source": [
        "img=images[0]\n",
        "print(img.type)"
      ],
      "metadata": {
        "colab": {
          "base_uri": "https://localhost:8080/"
        },
        "id": "MIaBOv37Z4uF",
        "outputId": "f2018291-5c1a-40b3-9e26-c502323f1d93"
      },
      "execution_count": null,
      "outputs": [
        {
          "output_type": "stream",
          "name": "stdout",
          "text": [
            "<built-in method type of Tensor object at 0x7f6cc489d2f0>\n"
          ]
        }
      ]
    },
    {
      "cell_type": "code",
      "source": [
        "img=img.numpy()\n",
        "print(img.shape)"
      ],
      "metadata": {
        "colab": {
          "base_uri": "https://localhost:8080/"
        },
        "id": "TMWlPRjfbRlX",
        "outputId": "8443bc55-9ce0-4be7-ae54-d4cf75c6d6e6"
      },
      "execution_count": null,
      "outputs": [
        {
          "output_type": "stream",
          "name": "stdout",
          "text": [
            "(3, 32, 32)\n"
          ]
        }
      ]
    },
    {
      "cell_type": "code",
      "source": [
        "npimg=np.transpose(img,(1,2,0))\n",
        "print(npimg.shape)"
      ],
      "metadata": {
        "colab": {
          "base_uri": "https://localhost:8080/"
        },
        "id": "KgZ_v-VhbaRK",
        "outputId": "0813371b-9054-4264-df1c-68337a5eb259"
      },
      "execution_count": null,
      "outputs": [
        {
          "output_type": "stream",
          "name": "stdout",
          "text": [
            "(32, 32, 3)\n"
          ]
        }
      ]
    },
    {
      "cell_type": "code",
      "source": [
        "plt.figure(figsize = (2,2))\n",
        "plt.imshow(npimg)\n",
        "plt.show()"
      ],
      "metadata": {
        "colab": {
          "base_uri": "https://localhost:8080/",
          "height": 159
        },
        "id": "6UNKxcnVbr0j",
        "outputId": "9b9e7c88-8d8c-49e1-b641-4b0c419b0acf"
      },
      "execution_count": null,
      "outputs": [
        {
          "output_type": "display_data",
          "data": {
            "text/plain": [
              "<Figure size 144x144 with 1 Axes>"
            ],
            "image/png": "[encoded data removed]"
          },
          "metadata": {
            "needs_background": "light"
          }
        }
      ]
    },
    {
      "cell_type": "code",
      "source": [
        "def imshow(image):\n",
        "    npimg=image.numpy()\n",
        "    plt.imshow(np.transpose(npimg,(1,2,0)))\n",
        "    plt.show()"
      ],
      "metadata": {
        "id": "7WFOK-5Sb4Z6"
      },
      "execution_count": null,
      "outputs": []
    },
    {
      "cell_type": "code",
      "source": [
        "imshow(torchvision.utils.make_grid(images))\n",
        "print(\"         \".join(classes[labels[j]] for j in range(4)))"
      ],
      "metadata": {
        "colab": {
          "base_uri": "https://localhost:8080/",
          "height": 155
        },
        "id": "8cvKRjgvd_Ks",
        "outputId": "217a6686-9989-44d9-d763-a45f52ed1726"
      },
      "execution_count": null,
      "outputs": [
        {
          "output_type": "display_data",
          "data": {
            "text/plain": [
              "<Figure size 432x288 with 1 Axes>"
            ],
            "image/png": "[encoded data removed]"
          },
          "metadata": {
            "needs_background": "light"
          }
        },
        {
          "output_type": "stream",
          "name": "stdout",
          "text": [
            "cat         frog         truck         ship\n"
          ]
        }
      ]
    },
    {
      "cell_type": "markdown",
      "source": [
        "SINGLE CONVOLUTIONAL LAYER"
      ],
      "metadata": {
        "id": "45FsshYnfFvy"
      }
    },
    {
      "cell_type": "code",
      "source": [
        "import torch.nn as nn\n",
        "\n",
        "class FirstCNN(nn.Module):\n",
        "    def __init__(self):\n",
        "        super(FirstCNN,self).__init__()\n",
        "        self.conv1=nn.Conv2d(3,16,3,padding=(1,1)) #padding=(1,1) , stride=(2,2)\n",
        "\n",
        "    def forward(self,x):\n",
        "        x=self.conv1(x)\n",
        "        return x"
      ],
      "metadata": {
        "id": "jDSZ8RmmebRx"
      },
      "execution_count": null,
      "outputs": []
    },
    {
      "cell_type": "code",
      "source": [
        "net=FirstCNN()"
      ],
      "metadata": {
        "id": "urot4ClWfW8z"
      },
      "execution_count": null,
      "outputs": []
    },
    {
      "cell_type": "code",
      "source": [
        "out=net(images)\n",
        "out.shape"
      ],
      "metadata": {
        "colab": {
          "base_uri": "https://localhost:8080/"
        },
        "id": "ifSKIAJUg-py",
        "outputId": "a997bb2d-b02d-4c8e-c282-c05d4d6dcf73"
      },
      "execution_count": null,
      "outputs": [
        {
          "output_type": "execute_result",
          "data": {
            "text/plain": [
              "torch.Size([4, 16, 32, 32])"
            ]
          },
          "metadata": {},
          "execution_count": 14
        }
      ]
    },
    {
      "cell_type": "code",
      "source": [
        "out1=out[0,0,:,:].detach().numpy()\n",
        "print(out1.shape)"
      ],
      "metadata": {
        "colab": {
          "base_uri": "https://localhost:8080/"
        },
        "id": "b9zFud2vhF7t",
        "outputId": "7d6be2bd-515c-49b0-a79e-a871b51ceb23"
      },
      "execution_count": null,
      "outputs": [
        {
          "output_type": "stream",
          "name": "stdout",
          "text": [
            "(32, 32)\n"
          ]
        }
      ]
    },
    {
      "cell_type": "code",
      "source": [
        "plt.imshow(out1)\n",
        "plt.show"
      ],
      "metadata": {
        "colab": {
          "base_uri": "https://localhost:8080/",
          "height": 283
        },
        "id": "HHUZfyWsirNw",
        "outputId": "63b52fda-3c20-4158-ddc0-502c08faccbf"
      },
      "execution_count": null,
      "outputs": [
        {
          "output_type": "execute_result",
          "data": {
            "text/plain": [
              "<function matplotlib.pyplot.show>"
            ]
          },
          "metadata": {},
          "execution_count": 16
        },
        {
          "output_type": "display_data",
          "data": {
            "text/plain": [
              "<Figure size 432x288 with 1 Axes>"
            ],
            "image/png": "[encoded data removed]"
          },
          "metadata": {
            "needs_background": "light"
          }
        }
      ]
    },
    {
      "cell_type": "markdown",
      "source": [
        "DEEP CONVOLUTION NETWORK"
      ],
      "metadata": {
        "id": "5Qpk765njkZV"
      }
    },
    {
      "cell_type": "code",
      "source": [
        "class FirstCNN_v2(nn.Module):\n",
        "    def __init__(self):\n",
        "        super(FirstCNN_v2,self).__init__()\n",
        "        self.model=nn.Sequential(\n",
        "            nn.Conv2d(3,8,3),\n",
        "            nn.Conv2d(8,16,3)\n",
        "        )\n",
        "\n",
        "    def forward(self,x):\n",
        "        x=self.model(x)\n",
        "        return x"
      ],
      "metadata": {
        "id": "1F2cOjMIiws-"
      },
      "execution_count": null,
      "outputs": []
    },
    {
      "cell_type": "code",
      "source": [
        "net=FirstCNN_v2()\n",
        "out=net(images)\n",
        "out.shape"
      ],
      "metadata": {
        "colab": {
          "base_uri": "https://localhost:8080/"
        },
        "id": "Vq4H39AKkSvi",
        "outputId": "72c2c015-c941-4f11-c719-bb02d7e9d5e6"
      },
      "execution_count": null,
      "outputs": [
        {
          "output_type": "execute_result",
          "data": {
            "text/plain": [
              "torch.Size([4, 16, 28, 28])"
            ]
          },
          "metadata": {},
          "execution_count": 18
        }
      ]
    },
    {
      "cell_type": "code",
      "source": [
        "plt.imshow(out[0,0,:,:].detach().numpy())"
      ],
      "metadata": {
        "colab": {
          "base_uri": "https://localhost:8080/",
          "height": 282
        },
        "id": "nzGOrX3okhrn",
        "outputId": "18887484-d032-4409-f540-d7021aa41bdb"
      },
      "execution_count": null,
      "outputs": [
        {
          "output_type": "execute_result",
          "data": {
            "text/plain": [
              "<matplotlib.image.AxesImage at 0x7f6cc40f70d0>"
            ]
          },
          "metadata": {},
          "execution_count": 19
        },
        {
          "output_type": "display_data",
          "data": {
            "text/plain": [
              "<Figure size 432x288 with 1 Axes>"
            ],
            "image/png": "[encoded data removed]"
          },
          "metadata": {
            "needs_background": "light"
          }
        }
      ]
    },
    {
      "cell_type": "code",
      "source": [
        "class FirstCNN_v3(nn.Module):\n",
        "    def __init__(self):\n",
        "        super(FirstCNN_v3,self).__init__()\n",
        "        self.model=nn.Sequential(\n",
        "            nn.Conv2d(3,6,5),\n",
        "            nn.AvgPool2d(2,stride=2),\n",
        "            nn.Conv2d(6,16,5),\n",
        "            nn.AvgPool2d(2,stride=2),\n",
        "        )\n",
        "\n",
        "    def forward(self,x):\n",
        "        x=self.model(x)\n",
        "        return x"
      ],
      "metadata": {
        "id": "qLxkW4hSkupk"
      },
      "execution_count": null,
      "outputs": []
    },
    {
      "cell_type": "code",
      "source": [
        "net=FirstCNN_v3()\n",
        "out=net(images)\n",
        "out.shape"
      ],
      "metadata": {
        "colab": {
          "base_uri": "https://localhost:8080/"
        },
        "id": "sCcQK1JYm6WR",
        "outputId": "844f4e09-2402-4b81-c7a8-255eb37adbe9"
      },
      "execution_count": null,
      "outputs": [
        {
          "output_type": "execute_result",
          "data": {
            "text/plain": [
              "torch.Size([4, 16, 5, 5])"
            ]
          },
          "metadata": {},
          "execution_count": 21
        }
      ]
    },
    {
      "cell_type": "code",
      "source": [
        "plt.imshow(out[0,0,:,:].detach().numpy())"
      ],
      "metadata": {
        "colab": {
          "base_uri": "https://localhost:8080/",
          "height": 282
        },
        "id": "sYJD9sYom-aH",
        "outputId": "500aa7d9-dbfd-496b-aed1-86f24cb0162b"
      },
      "execution_count": null,
      "outputs": [
        {
          "output_type": "execute_result",
          "data": {
            "text/plain": [
              "<matplotlib.image.AxesImage at 0x7f6cc4136310>"
            ]
          },
          "metadata": {},
          "execution_count": 22
        },
        {
          "output_type": "display_data",
          "data": {
            "text/plain": [
              "<Figure size 432x288 with 1 Axes>"
            ],
            "image/png": "[encoded data removed]"
          },
          "metadata": {
            "needs_background": "light"
          }
        }
      ]
    },
    {
      "cell_type": "markdown",
      "source": [
        "TRAINING LEENET"
      ],
      "metadata": {
        "id": "UjUBpu_5qnpt"
      }
    },
    {
      "cell_type": "code",
      "source": [
        "class LeNet(nn.Module):\n",
        "    def __init__(self):\n",
        "        super(LeNet,self).__init__()\n",
        "        self.cnn_model=nn.Sequential(\n",
        "            nn.Conv2d(3,6,5),\n",
        "            nn.Tanh(),\n",
        "            nn.AvgPool2d(2,stride=2),\n",
        "            nn.Conv2d(6,16,5),\n",
        "            nn.Tanh(),\n",
        "            nn.AvgPool2d(2,stride=2),\n",
        "        )\n",
        "\n",
        "        self.fc_model = nn.Sequential(\n",
        "            nn.Linear(400,120),\n",
        "            nn.Tanh(),\n",
        "            nn.Linear(120,84),\n",
        "            nn.Tanh(),\n",
        "            nn.Linear(84,10)\n",
        "        )\n",
        "    def forward(self,x):\n",
        "        print(x.shape)\n",
        "        x=self.cnn_model(x)\n",
        "        print(x.shape)\n",
        "        x=x.view(x.size(0),-1)\n",
        "        print(x.shape)\n",
        "        x = self.fc_model(x)\n",
        "        print(x.shape)\n",
        "        return x"
      ],
      "metadata": {
        "id": "fVpT75cwnH_U"
      },
      "execution_count": null,
      "outputs": []
    },
    {
      "cell_type": "code",
      "source": [
        "net=LeNet()\n",
        "out=net(images)"
      ],
      "metadata": {
        "colab": {
          "base_uri": "https://localhost:8080/"
        },
        "id": "GOd55giqr_a8",
        "outputId": "02de1e69-9a86-4642-9fe3-b2f6bed7de98"
      },
      "execution_count": null,
      "outputs": [
        {
          "output_type": "stream",
          "name": "stdout",
          "text": [
            "torch.Size([4, 3, 32, 32])\n",
            "torch.Size([4, 16, 5, 5])\n",
            "torch.Size([4, 400])\n",
            "torch.Size([4, 10])\n"
          ]
        }
      ]
    },
    {
      "cell_type": "code",
      "source": [
        "print(out)"
      ],
      "metadata": {
        "colab": {
          "base_uri": "https://localhost:8080/"
        },
        "id": "7XH6CNLBsIuR",
        "outputId": "d85ab669-6b95-4284-8e41-3e6c77971da2"
      },
      "execution_count": null,
      "outputs": [
        {
          "output_type": "stream",
          "name": "stdout",
          "text": [
            "tensor([[ 0.0178,  0.0204,  0.0262, -0.0744,  0.0087, -0.1077, -0.0182, -0.0582,\n",
            "          0.1230, -0.0215],\n",
            "        [ 0.0166,  0.0089,  0.0425, -0.0779,  0.0226, -0.1192,  0.0380, -0.0326,\n",
            "          0.0898,  0.0095],\n",
            "        [-0.0051, -0.0040,  0.0378, -0.0670,  0.0324, -0.1206, -0.0106, -0.0472,\n",
            "          0.1250,  0.0016],\n",
            "        [ 0.0003,  0.0037,  0.0376, -0.0858,  0.0280, -0.1094, -0.0038, -0.0457,\n",
            "          0.1325, -0.0019]], grad_fn=<AddmmBackward0>)\n"
          ]
        }
      ]
    },
    {
      "cell_type": "code",
      "source": [
        "max_values, pred_class=torch.max(out.data,1)\n",
        "print(pred_class)"
      ],
      "metadata": {
        "colab": {
          "base_uri": "https://localhost:8080/"
        },
        "id": "-S-5zct8sPlb",
        "outputId": "65889187-a51d-4ce4-f2df-1d7789f38c4f"
      },
      "execution_count": null,
      "outputs": [
        {
          "output_type": "stream",
          "name": "stdout",
          "text": [
            "tensor([8, 8, 8, 8])\n"
          ]
        }
      ]
    },
    {
      "cell_type": "markdown",
      "source": [
        "TRAINING"
      ],
      "metadata": {
        "id": "A-gOPcqntQhD"
      }
    },
    {
      "cell_type": "code",
      "source": [
        "class LeNet(nn.Module):\n",
        "    def __init__(self):\n",
        "        super(LeNet,self).__init__()\n",
        "        self.cnn_model=nn.Sequential(\n",
        "            nn.Conv2d(3,6,5),\n",
        "            nn.Tanh(),\n",
        "            nn.AvgPool2d(2,stride=2),\n",
        "            nn.Conv2d(6,16,5),\n",
        "            nn.Tanh(),\n",
        "            nn.AvgPool2d(2,stride=2),\n",
        "        )\n",
        "\n",
        "        self.fc_model = nn.Sequential(\n",
        "            nn.Linear(400,120),\n",
        "            nn.Tanh(),\n",
        "            nn.Linear(120,84),\n",
        "            nn.Tanh(),\n",
        "            nn.Linear(84,10)\n",
        "        )\n",
        "    def forward(self,x):\n",
        "        x=self.cnn_model(x)\n",
        "        x=x.view(x.size(0),-1)\n",
        "        x = self.fc_model(x)\n",
        "        return x"
      ],
      "metadata": {
        "id": "DcJQ4cw5seNI"
      },
      "execution_count": null,
      "outputs": []
    },
    {
      "cell_type": "code",
      "source": [
        "batch_size=128\n",
        "trainset=torchvision.datasets.CIFAR10(root='./data',train=True,download=True,transform=transforms.ToTensor())\n",
        "trainloader=torch.utils.data.DataLoader(trainset,batch_size=batch_size,shuffle=True)\n",
        "testset=torchvision.datasets.CIFAR10(root='./data',train=False,download=True,transform=transforms.ToTensor())\n",
        "testloader=torch.utils.data.DataLoader(testset,batch_size=batch_size,shuffle=True)"
      ],
      "metadata": {
        "colab": {
          "base_uri": "https://localhost:8080/"
        },
        "id": "xeQeghPktZfz",
        "outputId": "ccd94e95-24ee-495b-9dac-fae4e8942415"
      },
      "execution_count": null,
      "outputs": [
        {
          "output_type": "stream",
          "name": "stdout",
          "text": [
            "Files already downloaded and verified\n",
            "Files already downloaded and verified\n"
          ]
        }
      ]
    },
    {
      "cell_type": "code",
      "source": [
        "net=LeNet()"
      ],
      "metadata": {
        "id": "lySz9XO8uDcb"
      },
      "execution_count": null,
      "outputs": []
    },
    {
      "cell_type": "code",
      "source": [
        "def evaluation(dataloader):\n",
        "    total, correct= 0,0\n",
        "    for data in dataloader:\n",
        "        inputs, labels=data\n",
        "        outputs=net(inputs)\n",
        "        _, pred=torch.max(outputs.data,1)\n",
        "        total+=labels.size(0)\n",
        "        correct+=(pred==labels).sum().item()\n",
        "    return 100*correct/total"
      ],
      "metadata": {
        "id": "2iNB3KEYugi9"
      },
      "execution_count": null,
      "outputs": []
    },
    {
      "cell_type": "code",
      "source": [
        "import torch.optim as optim"
      ],
      "metadata": {
        "id": "gaZv64GIv6Pb"
      },
      "execution_count": null,
      "outputs": []
    },
    {
      "cell_type": "code",
      "source": [
        "loss_fn=nn.CrossEntropyLoss()\n",
        "opt=optim.Adam(net.parameters())"
      ],
      "metadata": {
        "id": "1BMV5hEGwhLT"
      },
      "execution_count": null,
      "outputs": []
    },
    {
      "cell_type": "code",
      "source": [
        "%%time\n",
        "loss_arr=[]\n",
        "loss_epoch_arr=[]\n",
        "max_epochs=16\n",
        "\n",
        "for epoch in range(max_epochs):\n",
        "    for i,data in enumerate(trainloader,0):\n",
        "        inputs,labels=data\n",
        "\n",
        "        opt.zero_grad()\n",
        "\n",
        "        outputs=net(inputs)\n",
        "        loss=loss_fn(outputs,labels)\n",
        "        loss.backward()\n",
        "        opt.step()\n",
        "\n",
        "        loss_arr.append(loss.item())\n",
        "\n",
        "    loss_epoch_arr.append(loss.item())\n",
        "\n",
        "    print('Epoch: %d/%d, Test acc: %0.2f, Train acc: %0.2f' % (epoch,max_epochs,evaluation(testloader),evaluation(trainloader)))\n",
        "\n",
        "plt.plot(loss_epoch_arr)\n",
        "plt.show()"
      ],
      "metadata": {
        "colab": {
          "base_uri": "https://localhost:8080/",
          "height": 577
        },
        "id": "0DzQ6RC5wtfX",
        "outputId": "a1166193-0798-48d5-c26a-69159e06cf83"
      },
      "execution_count": null,
      "outputs": [
        {
          "output_type": "stream",
          "name": "stdout",
          "text": [
            "Epoch: 0/16, Test acc: 37.92, Train acc: 38.24\n",
            "Epoch: 1/16, Test acc: 43.03, Train acc: 43.89\n",
            "Epoch: 2/16, Test acc: 47.26, Train acc: 47.27\n",
            "Epoch: 3/16, Test acc: 49.66, Train acc: 50.38\n",
            "Epoch: 4/16, Test acc: 51.29, Train acc: 53.18\n",
            "Epoch: 5/16, Test acc: 51.59, Train acc: 54.17\n",
            "Epoch: 6/16, Test acc: 53.67, Train acc: 56.86\n",
            "Epoch: 7/16, Test acc: 53.39, Train acc: 57.04\n",
            "Epoch: 8/16, Test acc: 54.07, Train acc: 58.64\n",
            "Epoch: 9/16, Test acc: 55.06, Train acc: 60.10\n",
            "Epoch: 10/16, Test acc: 55.07, Train acc: 61.17\n",
            "Epoch: 11/16, Test acc: 54.82, Train acc: 61.77\n",
            "Epoch: 12/16, Test acc: 55.59, Train acc: 62.94\n",
            "Epoch: 13/16, Test acc: 55.33, Train acc: 63.59\n",
            "Epoch: 14/16, Test acc: 55.67, Train acc: 64.52\n",
            "Epoch: 15/16, Test acc: 55.44, Train acc: 64.86\n"
          ]
        },
        {
          "output_type": "display_data",
          "data": {
            "text/plain": [
              "<Figure size 432x288 with 1 Axes>"
            ],
            "image/png": "[encoded data removed]"
          },
          "metadata": {
            "needs_background": "light"
          }
        },
        {
          "output_type": "stream",
          "name": "stdout",
          "text": [
            "CPU times: user 7min 11s, sys: 4.66 s, total: 7min 16s\n",
            "Wall time: 7min 29s\n"
          ]
        }
      ]
    },
    {
      "cell_type": "markdown",
      "source": [
        "MOVE TO GPU"
      ],
      "metadata": {
        "id": "ejqvpZeqOmmv"
      }
    },
    {
      "cell_type": "code",
      "source": [
        "device=torch.device('cuda:0' if torch.cuda.is_available() else 'cpu')\n",
        "print(device)"
      ],
      "metadata": {
        "id": "KPPnyosQ0Apx",
        "colab": {
          "base_uri": "https://localhost:8080/"
        },
        "outputId": "f78aeed0-3262-4380-c89c-d551a33cac2f"
      },
      "execution_count": null,
      "outputs": [
        {
          "output_type": "stream",
          "name": "stdout",
          "text": [
            "cuda:0\n"
          ]
        }
      ]
    },
    {
      "cell_type": "code",
      "source": [
        "def evaluation(dataloader):\n",
        "    total, correct= 0,0\n",
        "    for data in dataloader:\n",
        "        inputs, labels=data\n",
        "        inputs,labels=inputs.to(device),labels.to(device)\n",
        "        outputs=net(inputs)\n",
        "        _, pred=torch.max(outputs.data,1)\n",
        "        total+=labels.size(0)\n",
        "        correct+=(pred==labels).sum().item()\n",
        "    return 100*correct/total"
      ],
      "metadata": {
        "id": "XBZhvovyO7u8"
      },
      "execution_count": null,
      "outputs": []
    },
    {
      "cell_type": "code",
      "source": [
        "net=LeNet().to(device)\n",
        "loss_fn=nn.CrossEntropyLoss()\n",
        "opt=optim.Adam(net.parameters())"
      ],
      "metadata": {
        "id": "sFY9ffpFPd-f"
      },
      "execution_count": null,
      "outputs": []
    },
    {
      "cell_type": "code",
      "source": [
        "%%time\n",
        "loss_arr=[]\n",
        "loss_epoch_arr=[]\n",
        "max_epochs=16\n",
        "\n",
        "for epoch in range(max_epochs):\n",
        "    for i,data in enumerate(trainloader,0):\n",
        "        inputs,labels=data\n",
        "        inputs,labels=inputs.to(device),labels.to(device)\n",
        "\n",
        "        opt.zero_grad()\n",
        "\n",
        "        outputs=net(inputs)\n",
        "        loss=loss_fn(outputs,labels)\n",
        "        loss.backward()\n",
        "        opt.step()\n",
        "\n",
        "        loss_arr.append(loss.item())\n",
        "\n",
        "    loss_epoch_arr.append(loss.item())\n",
        "\n",
        "    print('Epoch: %d/%d, Test acc: %0.2f, Train acc: %0.2f' % (epoch,max_epochs,evaluation(testloader),evaluation(trainloader)))\n",
        "\n",
        "plt.plot(loss_epoch_arr)\n",
        "plt.show()"
      ],
      "metadata": {
        "colab": {
          "base_uri": "https://localhost:8080/",
          "height": 577
        },
        "id": "FRpMuj03PwKw",
        "outputId": "7bf97329-6105-42bc-ff25-13f7558189ed"
      },
      "execution_count": null,
      "outputs": [
        {
          "output_type": "stream",
          "name": "stdout",
          "text": [
            "Epoch: 0/16, Test acc: 36.79, Train acc: 36.95\n",
            "Epoch: 1/16, Test acc: 43.42, Train acc: 43.20\n",
            "Epoch: 2/16, Test acc: 46.44, Train acc: 47.39\n",
            "Epoch: 3/16, Test acc: 48.21, Train acc: 49.54\n",
            "Epoch: 4/16, Test acc: 49.79, Train acc: 52.19\n",
            "Epoch: 5/16, Test acc: 51.30, Train acc: 54.04\n",
            "Epoch: 6/16, Test acc: 52.41, Train acc: 55.95\n",
            "Epoch: 7/16, Test acc: 53.03, Train acc: 57.18\n",
            "Epoch: 8/16, Test acc: 53.05, Train acc: 57.81\n",
            "Epoch: 9/16, Test acc: 53.35, Train acc: 59.02\n",
            "Epoch: 10/16, Test acc: 53.88, Train acc: 60.09\n",
            "Epoch: 11/16, Test acc: 55.20, Train acc: 61.90\n",
            "Epoch: 12/16, Test acc: 54.61, Train acc: 62.67\n",
            "Epoch: 13/16, Test acc: 55.39, Train acc: 63.70\n",
            "Epoch: 14/16, Test acc: 55.17, Train acc: 64.55\n",
            "Epoch: 15/16, Test acc: 55.05, Train acc: 65.13\n"
          ]
        },
        {
          "output_type": "display_data",
          "data": {
            "text/plain": [
              "<Figure size 432x288 with 1 Axes>"
            ],
            "image/png": "[encoded data removed]"
          },
          "metadata": {
            "needs_background": "light"
          }
        },
        {
          "output_type": "stream",
          "name": "stdout",
          "text": [
            "CPU times: user 3min 29s, sys: 1.06 s, total: 3min 31s\n",
            "Wall time: 3min 31s\n"
          ]
        }
      ]
    },
    {
      "cell_type": "code",
      "source": [
        ""
      ],
      "metadata": {
        "id": "gEOU4-coQKdM"
      },
      "execution_count": null,
      "outputs": []
    }
  ]
}